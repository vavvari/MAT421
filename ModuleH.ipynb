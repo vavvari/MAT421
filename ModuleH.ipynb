{
  "nbformat": 4,
  "nbformat_minor": 0,
  "metadata": {
    "colab": {
      "provenance": [],
      "authorship_tag": "ABX9TyO+Kj6UWpHpHgbOqTM9bcHf",
      "include_colab_link": true
    },
    "kernelspec": {
      "name": "python3",
      "display_name": "Python 3"
    },
    "language_info": {
      "name": "python"
    }
  },
  "cells": [
    {
      "cell_type": "markdown",
      "metadata": {
        "id": "view-in-github",
        "colab_type": "text"
      },
      "source": [
        "<a href=\"https://colab.research.google.com/github/vavvari/MAT421/blob/main/ModuleH.ipynb\" target=\"_parent\"><img src=\"https://colab.research.google.com/assets/colab-badge.svg\" alt=\"Open In Colab\"/></a>"
      ]
    },
    {
      "cell_type": "markdown",
      "source": [
        "**22.1 ODE Initial Value Problem Statement**\n",
        "\n",
        "We refer to a a relationship between a function f(x) and its independent variable x along with any number of its derivatives as a differential equation. When the independent variable and its derivatives are in one dimension, we instead call this an ordinary differential equation or ODE. ODEs can take the form:\n",
        "\n",
        "$F\\left(x, f(x), \\frac{df(x)}{dx}, \\frac{d^2f(x)}{dx^2}, \\frac{d^3f(x)}{dx^3}, \\ldots, \\frac{d^{n-1}f(x)}{dx^{n-1}}\\right) = \\frac{d^{n}f(x)}{dx^{n}}$\n",
        "\n",
        "In contrast to the relationship found in an ODE, a partial differential equation or PDE is instead a general form differential equation in which x\n",
        "is a vector containing independent variables x_1 through x_m - the partial derivatives are not dependent on order and any combination of variables is possible. A function g(x) that satisfies the differential equation is the general solution.\n",
        "\n",
        "A common set of known values for an ODE solution is called the initial value of the ODE, and finding a solution to an ODE given an initial value is called the initial value problem."
      ],
      "metadata": {
        "id": "v2sujgbLqpmO"
      }
    },
    {
      "cell_type": "markdown",
      "source": [
        "**22.2 Reduction of Order**\n",
        "\n",
        "Numerical methods for solving initial value problems are often designed to solve first-order differential equations. To solve higher order differential equations, we usually reduce the order of the differential equation to first order. The vector S(t) is the state of the system as a function of time. The state of a system is a collection of all the dependent variables that are relevant to the behavior of the system. The state can be written as:\n",
        "\n",
        "$\\begin{split}\n",
        "S(t) =\\left[\\begin{array}{c}\n",
        "f(t) \\\\\n",
        "f^{(1)}(t) \\\\\n",
        "f^{(2)}(t) \\\\\n",
        "f^{(3)}(t) \\\\\n",
        "\\cdots \\\\\n",
        "f^{(n-1)}(t)\n",
        "\\end{array}\\right]\n",
        "\\end{split}$"
      ],
      "metadata": {
        "id": "IR-9GF9W0gjU"
      }
    },
    {
      "cell_type": "markdown",
      "source": [
        "**22.3 The Euler Method**\n",
        "\n",
        "The linear approximation of the state vector S(t) can be written as\n",
        "\n",
        "$S(t_{j+1}) = S(t_j) + hF(t_j, S(t_j))$\n",
        "\n",
        "We refer to this formula as the Explicit Euler Formula, and we use it to compute an approximation for the state at S(t_j+1) from the state at S(t_j). This method is the simplest way to solve initial value problems. When using a method with this structure the method integrates the solution of the ODE. Here we use the Euler Method to approximate the solution to differential equation $\\frac{df(t)}{dt} = e^{-t}$ with initial condition f_0 = -1.\n"
      ],
      "metadata": {
        "id": "lpo8BNa84a_K"
      }
    },
    {
      "cell_type": "code",
      "execution_count": null,
      "metadata": {
        "id": "rvDqQKLJoVZc"
      },
      "outputs": [],
      "source": [
        "# import for number and plot functions\n",
        "import numpy as np\n",
        "import matplotlib.pyplot as plt\n",
        "\n",
        "plt.style.use('seaborn-poster')\n",
        "%matplotlib inline\n",
        "\n",
        "# set function parameters\n",
        "f = lambda t, s: np.exp(-t)\n",
        "# step size\n",
        "h = 0.1\n",
        "t = np.arange(0, 1 + h, h)\n",
        "# initial condition for ODE\n",
        "s0 = -1\n",
        "\n",
        "# apply explicit Euler Method\n",
        "s = np.zeros(len(t))\n",
        "s[0] = s0\n",
        "\n",
        "for i in range(0, len(t) - 1):\n",
        "    s[i + 1] = s[i] + h*f(t[i], s[i])\n",
        "\n",
        "# plot exact and approximate solutions\n",
        "plt.figure(figsize = (12, 8))\n",
        "plt.plot(t, s, 'bo--', label='Approximate')\n",
        "plt.plot(t, -np.exp(-t), 'g', label='Exact')\n",
        "plt.title('Approximate and Exact Solution \\\n",
        "for Simple ODE')\n",
        "plt.xlabel('t')\n",
        "plt.ylabel('f(t)')\n",
        "plt.grid()\n",
        "plt.legend(loc='lower right')\n",
        "plt.show()"
      ]
    }
  ]
}