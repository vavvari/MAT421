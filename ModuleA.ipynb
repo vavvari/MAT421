{
  "nbformat": 4,
  "nbformat_minor": 0,
  "metadata": {
    "colab": {
      "provenance": [],
      "authorship_tag": "ABX9TyO34rt5Xew2+f8xm8ggMRiJ",
      "include_colab_link": true
    },
    "kernelspec": {
      "name": "python3",
      "display_name": "Python 3"
    },
    "language_info": {
      "name": "python"
    }
  },
  "cells": [
    {
      "cell_type": "markdown",
      "metadata": {
        "id": "view-in-github",
        "colab_type": "text"
      },
      "source": [
        "<a href=\"https://colab.research.google.com/github/vavvari/MAT421/blob/main/ModuleA.ipynb\" target=\"_parent\"><img src=\"https://colab.research.google.com/assets/colab-badge.svg\" alt=\"Open In Colab\"/></a>"
      ]
    },
    {
      "cell_type": "markdown",
      "source": [
        "**9.1 Base-N and Binary**\n",
        "\n",
        "With the decimal system, numbers are represented in digits from 0 to 9, and each digit represents an integer to the power of 10."
      ],
      "metadata": {
        "id": "QAe25piXGMqi"
      }
    },
    {
      "cell_type": "code",
      "execution_count": 24,
      "metadata": {
        "colab": {
          "base_uri": "https://localhost:8080/"
        },
        "id": "3Fi_A009Dnr_",
        "outputId": "cad3b94b-e34e-4e04-8459-7fc7ed3081d3"
      },
      "outputs": [
        {
          "output_type": "execute_result",
          "data": {
            "text/plain": [
              "True"
            ]
          },
          "metadata": {},
          "execution_count": 24
        }
      ],
      "source": [
        "# 147.3 (Base 10)\n",
        "\n",
        "147.3 == 1*(10**2) + 4*(10**1) + 7*(10**0) + 3*(10**-1)"
      ]
    },
    {
      "cell_type": "markdown",
      "source": [
        "We are familiar with numbers in base 10 as well as in base 2 due to the usage of binary numbers in computers but numbers can be represented in any base, for instance base 3."
      ],
      "metadata": {
        "id": "nGFI71z8NtGP"
      }
    },
    {
      "cell_type": "code",
      "source": [
        "# 16 in Base 10 is equivalent to 121 in Base 3\n",
        "\n",
        "1*(3**2) + 2*(3**1) + 1*(3**0) == 1*(10**1) + 6*(10**0)"
      ],
      "metadata": {
        "colab": {
          "base_uri": "https://localhost:8080/"
        },
        "id": "Tu4lxuBWN-ta",
        "outputId": "d16c99da-ad96-4537-b6c0-cb2d1164ab53"
      },
      "execution_count": 25,
      "outputs": [
        {
          "output_type": "execute_result",
          "data": {
            "text/plain": [
              "True"
            ]
          },
          "metadata": {},
          "execution_count": 25
        }
      ]
    },
    {
      "cell_type": "markdown",
      "source": [
        "Binary numbers can also be added and multiplied just like decimal numbers are. This can be useful because binary allows bits to be represented as AND, OR, and NOT."
      ],
      "metadata": {
        "id": "izFcyj2RStQ8"
      }
    },
    {
      "cell_type": "code",
      "source": [
        "# Decimal number 37 = 100101 (binary)\n",
        "# Decimal number 17 = 10001 (binary)\n",
        "# Binary addition 100101 + 10001 = 110110 = 54(base 10)\n",
        "# 37 + 17 = 54\n",
        "\n",
        "54 == 1*(2**5) + 1*(2**4) + 0*(2**3) + 1*(2**2) + 1*(2**1) + 0*(2**0)\n"
      ],
      "metadata": {
        "colab": {
          "base_uri": "https://localhost:8080/"
        },
        "id": "sK7Abu31S7Wh",
        "outputId": "88c088d8-6b84-4515-a08a-4e0a1fd326b9"
      },
      "execution_count": 26,
      "outputs": [
        {
          "output_type": "execute_result",
          "data": {
            "text/plain": [
              "True"
            ]
          },
          "metadata": {},
          "execution_count": 26
        }
      ]
    },
    {
      "cell_type": "code",
      "source": [
        "# Binary multiplication 100101 * 10001 = 1001110101 = 629(base 10)\n",
        "# 37 * 17 = 629\n",
        "\n",
        "629 == 1*(2**9) + 0*(2**8) + 0*(2**7) + 1*(2**6) + 1*(2**5) + 1*(2**4) + 0*(2**3) + 1*(2**2) + 0*(2**1) + 1*(2**0)"
      ],
      "metadata": {
        "colab": {
          "base_uri": "https://localhost:8080/"
        },
        "id": "K89-ixmWUroc",
        "outputId": "6224a6c0-900b-430a-91c4-245497f3f83e"
      },
      "execution_count": 27,
      "outputs": [
        {
          "output_type": "execute_result",
          "data": {
            "text/plain": [
              "True"
            ]
          },
          "metadata": {},
          "execution_count": 27
        }
      ]
    },
    {
      "cell_type": "markdown",
      "source": [
        "**9.2 Floating Point Numbers**\n",
        "\n",
        "Floating Point numbers (or float) are used to achieve a greater range of values with more precision than binary representation while using the same number of bits. A float can be represented as:\n",
        "\n",
        "**N = (-1)^S (2^(e-1023)) (1 + F)**\n",
        "\n",
        "where S is the sign indicator, e is the exponent, and F is the fraction, or coefficient of the exponent."
      ],
      "metadata": {
        "id": "d_aYv_UEVKwg"
      }
    },
    {
      "cell_type": "code",
      "source": [
        "#float import/info\n",
        "\n",
        "import sys\n",
        "sys.float_info"
      ],
      "metadata": {
        "colab": {
          "base_uri": "https://localhost:8080/"
        },
        "id": "mOOX_dGsYx2L",
        "outputId": "9ded084e-ab7b-45c9-f0ee-99e13678dcb9"
      },
      "execution_count": 28,
      "outputs": [
        {
          "output_type": "execute_result",
          "data": {
            "text/plain": [
              "sys.float_info(max=1.7976931348623157e+308, max_exp=1024, max_10_exp=308, min=2.2250738585072014e-308, min_exp=-1021, min_10_exp=-307, dig=15, mant_dig=53, epsilon=2.220446049250313e-16, radix=2, rounds=1)"
            ]
          },
          "metadata": {},
          "execution_count": 28
        }
      ]
    },
    {
      "cell_type": "markdown",
      "source": [
        "The decimal number 15 is represented as IEEE754 number 0 10000000010\n",
        "1110000000000000000000000000000000000000000000000000. However it also represents all real numbers between the next largest and smallest number. This range is called the gap and can be found with the spacing function."
      ],
      "metadata": {
        "id": "DEN6ZqtBbDpt"
      }
    },
    {
      "cell_type": "code",
      "source": [
        "#space function to determine gap at 1e9\n",
        "import numpy as np\n",
        "np.spacing(1e9)\n",
        "1e9 == (1e9 + np.spacing(1e9)/3)"
      ],
      "metadata": {
        "colab": {
          "base_uri": "https://localhost:8080/"
        },
        "id": "UftDwqPndZgc",
        "outputId": "e1691876-bbd5-412c-b2f9-d2c790e175dc"
      },
      "execution_count": 29,
      "outputs": [
        {
          "output_type": "execute_result",
          "data": {
            "text/plain": [
              "True"
            ]
          },
          "metadata": {},
          "execution_count": 29
        }
      ]
    },
    {
      "cell_type": "markdown",
      "source": [
        "The largest and smallest defined numbers in 64 bits to avoid subnormal numbers with an exponent of 0 can be calculated with sys.float_info.max and sys.float_info.min"
      ],
      "metadata": {
        "id": "BxE9to8sdVcc"
      }
    },
    {
      "cell_type": "code",
      "source": [
        "largest = (2**(2046-1023))*((1 + sum(0.5**np.arange(1, 53))))\n",
        "largest"
      ],
      "metadata": {
        "colab": {
          "base_uri": "https://localhost:8080/"
        },
        "id": "wbFJvMdvea7n",
        "outputId": "8c828002-79ef-49bc-80fc-4ad44af220ad"
      },
      "execution_count": 30,
      "outputs": [
        {
          "output_type": "execute_result",
          "data": {
            "text/plain": [
              "1.7976931348623157e+308"
            ]
          },
          "metadata": {},
          "execution_count": 30
        }
      ]
    },
    {
      "cell_type": "code",
      "source": [
        "sys.float_info.max"
      ],
      "metadata": {
        "colab": {
          "base_uri": "https://localhost:8080/"
        },
        "id": "snAB9qwEe9w3",
        "outputId": "ed3897c0-4cac-4c72-c5f6-ddf3546090b2"
      },
      "execution_count": 31,
      "outputs": [
        {
          "output_type": "execute_result",
          "data": {
            "text/plain": [
              "1.7976931348623157e+308"
            ]
          },
          "metadata": {},
          "execution_count": 31
        }
      ]
    },
    {
      "cell_type": "code",
      "source": [
        "smallest = (2**(1-1023))*(1+0)\n",
        "smallest"
      ],
      "metadata": {
        "colab": {
          "base_uri": "https://localhost:8080/"
        },
        "id": "VgA2ye6PelEr",
        "outputId": "6037b78a-8867-46c7-f3b4-f9a7bf2de19a"
      },
      "execution_count": 32,
      "outputs": [
        {
          "output_type": "execute_result",
          "data": {
            "text/plain": [
              "2.2250738585072014e-308"
            ]
          },
          "metadata": {},
          "execution_count": 32
        }
      ]
    },
    {
      "cell_type": "code",
      "source": [
        "sys.float_info.min"
      ],
      "metadata": {
        "colab": {
          "base_uri": "https://localhost:8080/"
        },
        "id": "WCNPs294e_8k",
        "outputId": "d3a26471-6f94-4dfb-932c-687888970bbb"
      },
      "execution_count": 33,
      "outputs": [
        {
          "output_type": "execute_result",
          "data": {
            "text/plain": [
              "2.2250738585072014e-308"
            ]
          },
          "metadata": {},
          "execution_count": 33
        }
      ]
    },
    {
      "cell_type": "markdown",
      "source": [
        "Smaller or larger numbers than the minimum or maximum subnormal numbers will result in either underflow or overflow, which return 0 and inf, respectively."
      ],
      "metadata": {
        "id": "vJL6FEoRfShF"
      }
    },
    {
      "cell_type": "code",
      "source": [
        "# smaller than smallest subnormal number\n",
        "2**(-1075)"
      ],
      "metadata": {
        "colab": {
          "base_uri": "https://localhost:8080/"
        },
        "id": "nxxzu7TwfiBr",
        "outputId": "48aa93d9-7ad4-4870-89e1-1a3802d0249f"
      },
      "execution_count": 34,
      "outputs": [
        {
          "output_type": "execute_result",
          "data": {
            "text/plain": [
              "0.0"
            ]
          },
          "metadata": {},
          "execution_count": 34
        }
      ]
    },
    {
      "cell_type": "code",
      "source": [
        "# greater than max subnormal\n",
        "sys.float_info.max + sys.float_info.max"
      ],
      "metadata": {
        "colab": {
          "base_uri": "https://localhost:8080/"
        },
        "id": "GRM8_4okgOq8",
        "outputId": "9965c595-99ca-4b6b-cb57-e2a2bf071281"
      },
      "execution_count": 35,
      "outputs": [
        {
          "output_type": "execute_result",
          "data": {
            "text/plain": [
              "inf"
            ]
          },
          "metadata": {},
          "execution_count": 35
        }
      ]
    },
    {
      "cell_type": "markdown",
      "source": [
        "**9.3 Round-off Errors**\n",
        "\n",
        "The difference between an approximation of a number used in compuptation and the true value is called round-off error, and the most common occurrence is floating point representation errors."
      ],
      "metadata": {
        "id": "OrCNLSMTg8Qn"
      }
    },
    {
      "cell_type": "markdown",
      "source": [
        "The difference between 5.9 and 5.845 should be .055, but Python will not indicate that as floating point numbers are just approximations resulting in small errors."
      ],
      "metadata": {
        "id": "30-DKqyXh100"
      }
    },
    {
      "cell_type": "code",
      "source": [
        "5.9 - 5.845 == 0.055"
      ],
      "metadata": {
        "colab": {
          "base_uri": "https://localhost:8080/"
        },
        "id": "T3PRKYftiTmc",
        "outputId": "99e24b2c-17c8-47df-8c1b-4b3802647d29"
      },
      "execution_count": 36,
      "outputs": [
        {
          "output_type": "execute_result",
          "data": {
            "text/plain": [
              "False"
            ]
          },
          "metadata": {},
          "execution_count": 36
        }
      ]
    },
    {
      "cell_type": "code",
      "source": [
        "5.9 - 5.845"
      ],
      "metadata": {
        "colab": {
          "base_uri": "https://localhost:8080/"
        },
        "id": "ayYWm_0EiXjL",
        "outputId": "e055d774-c4d3-4a54-c1b1-fdaf435666b8"
      },
      "execution_count": 37,
      "outputs": [
        {
          "output_type": "execute_result",
          "data": {
            "text/plain": [
              "0.055000000000000604"
            ]
          },
          "metadata": {},
          "execution_count": 37
        }
      ]
    },
    {
      "cell_type": "markdown",
      "source": [
        "The round function can be used to compare values."
      ],
      "metadata": {
        "id": "fu24bIjMi-H_"
      }
    },
    {
      "cell_type": "code",
      "source": [
        "# rounded to five digits\n",
        "round(5.9 - 5.845, 5)  == round(0.055 , 5)"
      ],
      "metadata": {
        "colab": {
          "base_uri": "https://localhost:8080/"
        },
        "id": "OkjkKcMVjDtZ",
        "outputId": "4c8760d4-a152-4389-ed01-e4bd3d4c6a61"
      },
      "execution_count": 38,
      "outputs": [
        {
          "output_type": "execute_result",
          "data": {
            "text/plain": [
              "True"
            ]
          },
          "metadata": {},
          "execution_count": 38
        }
      ]
    },
    {
      "cell_type": "markdown",
      "source": [
        "When many computations are being made, the accumulation of round-off error will affect the final value more than just doing one calculation, magnifying the error. We can see the error change in the following example -"
      ],
      "metadata": {
        "id": "FXcFR9j_jRIU"
      }
    },
    {
      "cell_type": "code",
      "source": [
        "# calculation done once\n",
        "2 + 2/3 - 2/3"
      ],
      "metadata": {
        "colab": {
          "base_uri": "https://localhost:8080/"
        },
        "id": "X-zO2NTYjqke",
        "outputId": "07d6a6c7-b997-4c8c-dba4-9b125e55a70e"
      },
      "execution_count": 39,
      "outputs": [
        {
          "output_type": "execute_result",
          "data": {
            "text/plain": [
              "2.0"
            ]
          },
          "metadata": {},
          "execution_count": 39
        }
      ]
    },
    {
      "cell_type": "code",
      "source": [
        "#function definition to add and subtract\n",
        "def add_and_subtract(iterations):\n",
        "\n",
        "  result = 2\n",
        "  for i in range(iterations):\n",
        "      result += 2/3\n",
        "  for i in range(iterations):\n",
        "      result -= 2/3\n",
        "  return result"
      ],
      "metadata": {
        "id": "7HNfwcd4jvfo"
      },
      "execution_count": 40,
      "outputs": []
    },
    {
      "cell_type": "code",
      "source": [
        "add_and_subtract(10)"
      ],
      "metadata": {
        "colab": {
          "base_uri": "https://localhost:8080/"
        },
        "id": "3fZjffVkk_nn",
        "outputId": "5acee5e6-dbaf-4d11-fcde-3a262760fc67"
      },
      "execution_count": 41,
      "outputs": [
        {
          "output_type": "execute_result",
          "data": {
            "text/plain": [
              "1.9999999999999982"
            ]
          },
          "metadata": {},
          "execution_count": 41
        }
      ]
    },
    {
      "cell_type": "code",
      "source": [
        "# run 100 times\n",
        "add_and_subtract(100)"
      ],
      "metadata": {
        "colab": {
          "base_uri": "https://localhost:8080/"
        },
        "id": "jNL4zu0TkKIz",
        "outputId": "5979f3bb-d388-4413-df0f-3e913af379e1"
      },
      "execution_count": 42,
      "outputs": [
        {
          "output_type": "execute_result",
          "data": {
            "text/plain": [
              "2.0000000000000004"
            ]
          },
          "metadata": {},
          "execution_count": 42
        }
      ]
    },
    {
      "cell_type": "code",
      "source": [
        "# run 1000 times\n",
        "add_and_subtract(1000)"
      ],
      "metadata": {
        "colab": {
          "base_uri": "https://localhost:8080/"
        },
        "id": "N-UB8QD1kKcR",
        "outputId": "4c313c95-b636-46b0-9a46-62758c558484"
      },
      "execution_count": 43,
      "outputs": [
        {
          "output_type": "execute_result",
          "data": {
            "text/plain": [
              "2.000000000000013"
            ]
          },
          "metadata": {},
          "execution_count": 43
        }
      ]
    }
  ]
}