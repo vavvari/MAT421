{
  "nbformat": 4,
  "nbformat_minor": 0,
  "metadata": {
    "colab": {
      "provenance": [],
      "authorship_tag": "ABX9TyN8YRsDNf+gn+AwBR1657tL",
      "include_colab_link": true
    },
    "kernelspec": {
      "name": "python3",
      "display_name": "Python 3"
    },
    "language_info": {
      "name": "python"
    }
  },
  "cells": [
    {
      "cell_type": "markdown",
      "metadata": {
        "id": "view-in-github",
        "colab_type": "text"
      },
      "source": [
        "<a href=\"https://colab.research.google.com/github/vavvari/MAT421/blob/main/ModuleG.ipynb\" target=\"_parent\"><img src=\"https://colab.research.google.com/assets/colab-badge.svg\" alt=\"Open In Colab\"/></a>"
      ]
    },
    {
      "cell_type": "markdown",
      "source": [
        "**21.4 Simpson's Rule**\n",
        "\n",
        "When we have two consecutive subintervals, we can use Simpson's rule to approximate the area under function f(x) by fitting a quadratic polynomial through two points $(x_{i-1}, f(x_{i-1})), (x_i, f(x_i))$ and $(x_{i+1}, f(x_{i+1}))$. This yields a unique polynomial and from there we can integrate the quadratic.d\n",
        "\n",
        "The first step is constructing a quadratic polynomial approximation of the function over both subintervals. The use of Lagrange polynomials is the best way to do this, and after applying the formula for constructing Lagrange polynomials and substituting with *h* we get -\n",
        "\n",
        "$P_i(x) = \\frac{f(x_{i-1})}{2h^2} (x - x_i)(x - x_{i+1}) - \\frac{f(x_i)}{h^2} (x - x_{i-1})(x - x_{i+1}) + \\frac{f(x_{i+1})}{2h^2} (x - x_{i-1})(x - x_{i})$\n",
        "\n",
        "The integral of $P_i(x)$ is $\\int_{x_{i-1}}^{x_{i+1}} P_i(x) dx = \\frac{h}{3}(f(x_{i-1}) + 4f(x_i) + f(x_{i+1})$\n",
        "\n",
        "To complete the approximation of the integral over (a,b), we sum the integrals of $P_i(x)$ over every two subintervals."
      ],
      "metadata": {
        "id": "XSpXWgaXi_BP"
      }
    },
    {
      "cell_type": "code",
      "execution_count": null,
      "metadata": {
        "id": "4MTvMCzhaEsa"
      },
      "outputs": [],
      "source": [
        "# import for number functions\n",
        "import numpy as np\n",
        "\n",
        "# setting up parameter values\n",
        "a = 0\n",
        "b = np.pi\n",
        "n = 11\n",
        "h = (b - a) / (n - 1)\n",
        "x = np.linspace(a, b, n)\n",
        "f = np.sin(x)\n",
        "\n",
        "# Simpson's rule approximation along with error\n",
        "I_simp = (h/3) * (f[0] + 2*sum(f[:n-2:2]) \\\n",
        "            + 4*sum(f[1:n-1:2]) + f[n-1])\n",
        "err_simp = 2 - I_simp\n",
        "\n",
        "# print resulting values\n",
        "print(I_simp)\n",
        "print(err_simp)"
      ]
    },
    {
      "cell_type": "markdown",
      "source": [
        "**21.5 Computing Integrals in Python**\n",
        "\n",
        "We can use the functions included in the scipy.integrate sub-package to compute integrals in Python, and the *trapz* import takes an array of function values f as arguments. Here the trapz function is used to approximate the integral of sin(x) for equally spaced points over the interval."
      ],
      "metadata": {
        "id": "09uYx0ZQwd6V"
      }
    },
    {
      "cell_type": "code",
      "source": [
        "# import for trapz and number functions\n",
        "import numpy as np\n",
        "from scipy.integrate import trapz\n",
        "\n",
        "# set up parameter values\n",
        "a = 0\n",
        "b = np.pi\n",
        "n = 11\n",
        "h = (b - a) / (n - 1)\n",
        "x = np.linspace(a, b, n)\n",
        "f = np.sin(x)\n",
        "\n",
        "# call trapz to compute integral\n",
        "I_trapz = trapz(f,x)\n",
        "I_trap = (h/2)*(f[0] + 2 * sum(f[1:n-1]) + f[n-1])\n",
        "\n",
        "print(I_trapz)\n",
        "print(I_trap)"
      ],
      "metadata": {
        "id": "4pGgXiilxOB8"
      },
      "execution_count": null,
      "outputs": []
    },
    {
      "cell_type": "markdown",
      "source": [
        "If we instead want to find the approximate cumulative integral or $F(X) = \\int_{x_0}^X f(x) dx$, we can instead use the *cumtrapz* function *cumsum* to compute the integral.\n"
      ],
      "metadata": {
        "id": "45q8cVfVxzJs"
      }
    },
    {
      "cell_type": "code",
      "source": [
        "# import for trapz and number functions\n",
        "from scipy.integrate import cumtrapz\n",
        "import matplotlib.pyplot as plt\n",
        "\n",
        "# import for plot functions\n",
        "%matplotlib inline\n",
        "plt.style.use('seaborn-poster')\n",
        "\n",
        "# exact solution along with approximate\n",
        "x = np.arange(0, np.pi, 0.01)\n",
        "F_exact = -np.cos(x)\n",
        "F_approx = cumtrapz(np.sin(x), x)\n",
        "\n",
        "# plot exact and approximate together\n",
        "plt.figure(figsize = (10,6))\n",
        "plt.plot(x, F_exact)\n",
        "plt.plot(x[1::], F_approx)\n",
        "plt.grid()\n",
        "plt.tight_layout()\n",
        "plt.title('$F(x) = \\int_0^{x} sin(y) dy$')\n",
        "plt.xlabel('x')\n",
        "plt.ylabel('f(x)')\n",
        "plt.legend(['Exact with Offset', 'Approx'])\n",
        "plt.show()"
      ],
      "metadata": {
        "id": "qwVoQHJzxpPZ"
      },
      "execution_count": null,
      "outputs": []
    }
  ]
}