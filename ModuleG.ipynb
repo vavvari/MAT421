{
  "nbformat": 4,
  "nbformat_minor": 0,
  "metadata": {
    "colab": {
      "provenance": [],
      "authorship_tag": "ABX9TyMmvNuhNnDHAP/1NhQ/U9qd",
      "include_colab_link": true
    },
    "kernelspec": {
      "name": "python3",
      "display_name": "Python 3"
    },
    "language_info": {
      "name": "python"
    }
  },
  "cells": [
    {
      "cell_type": "markdown",
      "metadata": {
        "id": "view-in-github",
        "colab_type": "text"
      },
      "source": [
        "<a href=\"https://colab.research.google.com/github/vavvari/MAT421/blob/main/ModuleG.ipynb\" target=\"_parent\"><img src=\"https://colab.research.google.com/assets/colab-badge.svg\" alt=\"Open In Colab\"/></a>"
      ]
    },
    {
      "cell_type": "markdown",
      "source": [
        "**21.1 Numerical Integration Problem Statement**\n",
        "\n",
        "The goal for numerical integration is to approximate the integral of a given function f(x) over the entire interval. To do this we must discretize into a numerical grid that consists of n+1 points with spacing h between them. We assume we already have the function f(x), or are implicitly given f(x_i). The intervals between these points can be referred to as a subinterval.\n",
        "\n"
      ],
      "metadata": {
        "id": "KBtpomfKPrTc"
      }
    },
    {
      "cell_type": "markdown",
      "source": [
        "**21.2 Riemann's Integral**\n",
        "\n",
        "Riemann's Integral is simplest method for approximating integrals and is done by summing the area of the rectangles within each subinterval. We first choose function values at both the left and right endpoints, which can also be used as the height of our integral. This is the Riemann Integral approximation. We can sum the O(h^2) error over the entire Riemann sum we get nO(h^2). The relationship between n and h here is  $h=(b−a)/n$."
      ],
      "metadata": {
        "id": "Dtk2P9OmRt0z"
      }
    },
    {
      "cell_type": "code",
      "execution_count": 1,
      "metadata": {
        "colab": {
          "base_uri": "https://localhost:8080/"
        },
        "id": "Si15pXmbPcpz",
        "outputId": "ab7c229c-897d-4530-884a-d173fd912075"
      },
      "outputs": [
        {
          "output_type": "stream",
          "name": "stdout",
          "text": [
            "1.9835235375094546\n",
            "0.01647646249054535\n",
            "1.9835235375094546\n",
            "0.01647646249054535\n",
            "2.0082484079079745\n",
            "-0.008248407907974542\n"
          ]
        }
      ],
      "source": [
        "# import for number funtions\n",
        "import numpy as np\n",
        "a = 0\n",
        "b = np.pi\n",
        "n = 11\n",
        "h = (b - a) / (n - 1)\n",
        "x = np.linspace(a, b, n)\n",
        "f = np.sin(x)\n",
        "\n",
        "# calculation of Riemann sides\n",
        "I_riemannL = h * sum(f[:n-1])\n",
        "err_riemannL = 2 - I_riemannL\n",
        "I_riemannR = h * sum(f[1::])\n",
        "err_riemannR = 2 - I_riemannR\n",
        "I_mid = h * sum(np.sin((x[:n-1] \\\n",
        "+ x[1:])/2))\n",
        "err_mid = 2 - I_mid\n",
        "\n",
        "# print statement outputs\n",
        "print(I_riemannL)\n",
        "print(err_riemannL)\n",
        "print(I_riemannR)\n",
        "print(err_riemannR)\n",
        "print(I_mid)\n",
        "print(err_mid)\n"
      ]
    },
    {
      "cell_type": "markdown",
      "source": [
        "**21.3 Trapezoid Rule**\n",
        "\n",
        "When we use the trapezoid rule, we fit the trapezoid into each subinterval and sums the areas of the trapezoid to approximate the\n",
        "total integral. The integrals are approximated according to the expression\n",
        "h∑_i=0,n−1 (f(x_i) + f(x_i+1)) / 2. The approximation for subintervals for a single subinterval is O(h^3) and over the whole interval O(h^2). Here we can approximate the interval of sin(x) with 11 evenly spaced points."
      ],
      "metadata": {
        "id": "joBgeQxZPquv"
      }
    },
    {
      "cell_type": "code",
      "source": [
        "# imports for number ops\n",
        "import numpy as np\n",
        "a = 0\n",
        "b = np.pi\n",
        "n = 11\n",
        "h = (b - a) / (n - 1)\n",
        "x = np.linspace(a, b, n)\n",
        "f = np.sin(x)\n",
        "I_trap = (h/2)*(f[0] + \\\n",
        "2 * sum(f[1:n-1]) + f[n-1])\n",
        "err_trap = 2 - I_trap\n",
        "print(I_trap)\n",
        "print(err_trap)"
      ],
      "metadata": {
        "colab": {
          "base_uri": "https://localhost:8080/"
        },
        "id": "t4qs2Np1ZzNE",
        "outputId": "a4d34cca-e1ec-4052-c0ef-fe06d582fea4"
      },
      "execution_count": 2,
      "outputs": [
        {
          "output_type": "stream",
          "name": "stdout",
          "text": [
            "1.9835235375094546\n",
            "0.01647646249054535\n"
          ]
        }
      ]
    }
  ]
}