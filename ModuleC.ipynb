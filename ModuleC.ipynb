{
  "nbformat": 4,
  "nbformat_minor": 0,
  "metadata": {
    "colab": {
      "provenance": [],
      "authorship_tag": "ABX9TyOA1Q4lKiDU3de4W8Ptfx9o",
      "include_colab_link": true
    },
    "kernelspec": {
      "name": "python3",
      "display_name": "Python 3"
    },
    "language_info": {
      "name": "python"
    }
  },
  "cells": [
    {
      "cell_type": "markdown",
      "metadata": {
        "id": "view-in-github",
        "colab_type": "text"
      },
      "source": [
        "<a href=\"https://colab.research.google.com/github/vavvari/MAT421/blob/main/ModuleC.ipynb\" target=\"_parent\"><img src=\"https://colab.research.google.com/assets/colab-badge.svg\" alt=\"Open In Colab\"/></a>"
      ]
    },
    {
      "cell_type": "markdown",
      "source": [
        "**19.1 Root Finding Problem Statement**\n",
        "\n",
        "To find the root of a function, we must find an x value so that f(x) = 0. For functions where finding an exact solution is not immediately clear, it is then better to generate numerical approximations of the function root."
      ],
      "metadata": {
        "id": "FbV8bbSHBdbo"
      }
    },
    {
      "cell_type": "code",
      "execution_count": null,
      "metadata": {
        "id": "xbocX8En-NZg",
        "colab": {
          "base_uri": "https://localhost:8080/"
        },
        "outputId": "bd1c5e6f-2888-4824-b852-d3fee98ecf2b"
      },
      "outputs": [
        {
          "output_type": "stream",
          "name": "stdout",
          "text": [
            "r = [2.07167136e-08]\n",
            "result= [0.]\n"
          ]
        }
      ],
      "source": [
        "# importing libraries to find root\n",
        "import numpy as np\n",
        "from scipy import optimize\n",
        "\n",
        "# finding root of f(x) = sin(x) - x near 2\n",
        "f = lambda x: np.sin(x) - x\n",
        "r = optimize.fsolve(f, 2)\n",
        "print(\"r =\", r)\n",
        "\n",
        "# checking if solution is the root\n",
        "result = f(r)\n",
        "print(\"result=\", result)"
      ]
    },
    {
      "cell_type": "markdown",
      "source": [
        "When a function has no root and we use this method to compute the root, we will be given a non-root answer due to reaching the maximum number of function calls."
      ],
      "metadata": {
        "id": "JyYvDxILH4U8"
      }
    },
    {
      "cell_type": "code",
      "source": [
        "import numpy as np\n",
        "from scipy import optimize\n",
        "\n",
        "f = lambda x: 1/x\n",
        "\n",
        "# using full output to check error\n",
        "r, infodict, ier, mesg = optimize.fsolve(f, -2, full_output=True)\n",
        "print(\"r =\", r)\n",
        "\n",
        "result = f(r)\n",
        "print(\"result=\", result)\n",
        "\n",
        "print(mesg)"
      ],
      "metadata": {
        "id": "Gd4rlb-CIXRu"
      },
      "execution_count": null,
      "outputs": []
    },
    {
      "cell_type": "markdown",
      "source": [
        "**19.2 Tolerance**\n",
        "\n",
        "Deviations in the expected value are referred to as errors, and tolerance subsequently refers to the allowed level of error for a solution. We consider a program to have converged when a solution is found with smaller error than our tolerance."
      ],
      "metadata": {
        "id": "bNNKLiVAItg9"
      }
    },
    {
      "cell_type": "code",
      "source": [
        "import numpy as np\n",
        "from scipy import optimize\n",
        "\n",
        "f = lambda x: 1/x\n",
        "\n",
        "r, infodict, ier, mesg = optimize.fsolve(f, -2, xtol=.1, full_output=True)\n",
        "print(\"r =\", r)\n",
        "\n",
        "# printing calculated error or distance from zero\n",
        "error = f(r)\n",
        "print(\"error value\", error)\n",
        "\n",
        "print(mesg)\n"
      ],
      "metadata": {
        "id": "hPefS8sXSgpF"
      },
      "execution_count": null,
      "outputs": []
    },
    {
      "cell_type": "markdown",
      "source": [
        "**19.3 Bisection Method**\n",
        "\n",
        "With the bisection method, we can iteratively use the intermediate value theorem to find roots of a function. If f(x) is a continuous function and we have scalar values a and b such that a < b, then we can define the midpoint as m = (a + b) / 2. The program is then run again recursively depending on whether there is an improvement to the left or right bound. In this example we are finding the root of f(x) = x^2 - 3 using the bisection function with a = 0 and b = 3."
      ],
      "metadata": {
        "id": "zwBnfpYrWkIv"
      }
    },
    {
      "cell_type": "code",
      "source": [
        "import numpy as np\n",
        "\n",
        "# finds the root of function F to a degree of tolerance tol\n",
        "def my_bisection(f, a, b, tol):\n",
        "\n",
        "    # check to see if a = b, return error\n",
        "    if np.sign(f(a)) == np.sign(f(b)):\n",
        "        raise Exception(\n",
        "         \"a and b do not bound a root\")\n",
        "\n",
        "    # calculate midpoint\n",
        "    m = (a + b)/2\n",
        "\n",
        "    if np.abs(f(m)) < tol:\n",
        "        # end condition\n",
        "        return m\n",
        "    elif np.sign(f(a)) == np.sign(f(m)):\n",
        "        # improvement on left bound\n",
        "        # make recursive call with a = m\n",
        "        return my_bisection(f, m, b, tol)\n",
        "    elif np.sign(f(b)) == np.sign(f(m)):\n",
        "        # improvement on right bound\n",
        "        # make recursive call with b = m\n",
        "        return my_bisection(f, a, m, tol)\n",
        "\n",
        "# define function f\n",
        "f = lambda x: x**2 - 3\n",
        "\n",
        "# recursive bisection call\n",
        "r1 = my_bisection(f, 0, 3, 0.1)\n",
        "print(\"r1 =\", r1)\n",
        "r01 = my_bisection(f, 0, 3, 0.01)\n",
        "print(\"r01 =\", r01)\n",
        "\n",
        "print(\"f(r1) =\", f(r1))\n",
        "print(\"f(r01) =\", f(r01))"
      ],
      "metadata": {
        "colab": {
          "base_uri": "https://localhost:8080/"
        },
        "id": "pqjbs4e4l_c3",
        "outputId": "a05c651a-4805-4446-c086-4f785ec2525d"
      },
      "execution_count": 6,
      "outputs": [
        {
          "output_type": "stream",
          "name": "stdout",
          "text": [
            "r1 = 1.734375\n",
            "r01 = 1.734375\n",
            "f(r1) = 0.008056640625\n",
            "f(r01) = 0.008056640625\n"
          ]
        }
      ]
    },
    {
      "cell_type": "markdown",
      "source": [
        "The value of r1 and r01 are equal to sqrt(3), so we have found our root solution."
      ],
      "metadata": {
        "id": "17GbIdJQoqCe"
      }
    },
    {
      "cell_type": "markdown",
      "source": [
        "**19.4 Newton-Raphson Method**\n",
        "\n",
        "Given a smooth and continuous function f(x), we could find unknown root r by using linear approximation to iteratively improve our guesses until we reach a value within tolerance. The Newton-Raphson method is different because a Newton step computes an improved guess from a previous one given by:\n",
        "\n",
        "$x_i = x_{i-1} - \\frac{g(x_{i-1})}{g^{\\prime}(x_{i-1})}$\n",
        "\n",
        "The Newton-Raphson method iterates these Newton steps from the initial r guess until error is less than our tolerance. Here we will use r = 1.7 as a starting point to find the root of f(x) = x^2 - 3."
      ],
      "metadata": {
        "id": "5HtcvrHJozdE"
      }
    },
    {
      "cell_type": "code",
      "source": [
        "import numpy as np\n",
        "\n",
        "f = lambda x: x**2 - 3\n",
        "f_prime = lambda x: 2*x\n",
        "newton_raphson = 1.7 - (f(1.7))/(f_prime(1.7))\n",
        "\n",
        "print(\"newton_raphson =\", newton_raphson)\n",
        "print(\"sqrt(3) =\", np.sqrt(3))\n",
        "\n",
        "# function definition for Newton-Raphson method\n",
        "def my_newton(f, df, x0, tol):\n",
        "\n",
        "    if abs(f(x0)) < tol:\n",
        "        return x0\n",
        "    else:\n",
        "        return my_newton(f, df, x0 - f(x0)/df(x0), tol)\n"
      ],
      "metadata": {
        "colab": {
          "base_uri": "https://localhost:8080/"
        },
        "id": "Mq62wOkkygUA",
        "outputId": "3a256a31-1db8-4df3-cdfb-7daa0a7fcf63"
      },
      "execution_count": 9,
      "outputs": [
        {
          "output_type": "stream",
          "name": "stdout",
          "text": [
            "newton_raphson = 1.7323529411764707\n",
            "sqrt(3) = 1.7320508075688772\n"
          ]
        }
      ]
    },
    {
      "cell_type": "code",
      "source": [
        "# calls function with guess greater than root\n",
        "estimate = my_newton(f, f_prime, 1.8, 1e-6)\n",
        "print(\"estimate =\", estimate)\n",
        "print(\"sqrt(3) =\", np.sqrt(3))"
      ],
      "metadata": {
        "colab": {
          "base_uri": "https://localhost:8080/"
        },
        "id": "_4EmYCIO2HMQ",
        "outputId": "9f9fbdac-9ec6-44ec-fc51-b573ab268a02"
      },
      "execution_count": 8,
      "outputs": [
        {
          "output_type": "stream",
          "name": "stdout",
          "text": [
            "estimate = 1.7320508075689423\n",
            "sqrt(3) = 1.7320508075688772\n"
          ]
        }
      ]
    },
    {
      "cell_type": "markdown",
      "source": [
        "If our guess is close to the true root, then we can see that the Newton-Raphson method converges faster than the previous bisection method, but risks converging to a different root than root $x_r$."
      ],
      "metadata": {
        "id": "0x1VFyRu2TWV"
      }
    },
    {
      "cell_type": "markdown",
      "source": [
        "**19.5 Root Finding in Python**\n",
        "\n",
        "When using Python, we have access to built-in root finding functions like f_solve to make things more convenient. It is possible to take in many different arguments with f_solve, but the function and initial guess are amongst the most important."
      ],
      "metadata": {
        "id": "mos0vHrv2lua"
      }
    },
    {
      "cell_type": "code",
      "source": [
        "from scipy.optimize import fsolve\n",
        "\n",
        "f = lambda x: x**3-100*x**2-x+100\n",
        "\n",
        "fsolve(f, [2, 80])"
      ],
      "metadata": {
        "colab": {
          "base_uri": "https://localhost:8080/"
        },
        "id": "Zyw1IOje41eq",
        "outputId": "1811617b-23fe-4726-f3d9-1c6e708c7b17"
      },
      "execution_count": 10,
      "outputs": [
        {
          "output_type": "execute_result",
          "data": {
            "text/plain": [
              "array([  1., 100.])"
            ]
          },
          "metadata": {},
          "execution_count": 10
        }
      ]
    },
    {
      "cell_type": "markdown",
      "source": [
        "Thus the function f(x) = x^3-100x^2-x+100 has roots 1 and 100 from the fsolve function."
      ],
      "metadata": {
        "id": "1choT5Li5yVk"
      }
    }
  ]
}